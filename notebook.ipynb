{
 "cells": [
  {
   "cell_type": "code",
   "execution_count": 1,
   "metadata": {},
   "outputs": [
    {
     "name": "stderr",
     "output_type": "stream",
     "text": [
      "2023-11-20 17:08:34.106847: I tensorflow/core/platform/cpu_feature_guard.cc:193] This TensorFlow binary is optimized with oneAPI Deep Neural Network Library (oneDNN) to use the following CPU instructions in performance-critical operations:  AVX2 FMA\n",
      "To enable them in other operations, rebuild TensorFlow with the appropriate compiler flags.\n",
      "2023-11-20 17:08:36.147999: W tensorflow/compiler/xla/stream_executor/platform/default/dso_loader.cc:64] Could not load dynamic library 'libnvinfer.so.7'; dlerror: libnvinfer.so.7: cannot open shared object file: No such file or directory; LD_LIBRARY_PATH: /shared/centos7/cuda/11.7/lib64:/shared/centos7/oracle_java/jdk1.8.0_181/jre/lib:/shared/centos7/oracle_java/jdk1.8.0_181/lib:/shared/centos7/oracle_java/jdk1.8.0_181/jre/lib/amd64:/shared/centos7/oracle_java/jdk1.8.0_181/jre/lib/amd64/jli:/shared/centos7/oracle_java/jdk1.8.0_181/jre/lib/amd64/server:/shared/centos7/oracle_java/jdk1.8.0_181/lib/amd64:/shared/centos7/oracle_java/jdk1.8.0_181/lib/amd64/jli:/shared/centos7/oracle_java/jdk1.8.0_181/lib/visualvm/profiler/lib/deployed/jdk16/linux-amd64:/shared/centos7/oracle_java/jdk1.8.0_181/lib/visualvm/profiler/lib/deployed/jdk15/linux-amd64:/shared/centos7/oracle_java/jdk1.8.0_181/lib/missioncontrol/plugins/org.eclipse.equinox.launcher.gtk.linux.x86_64_1.1.200.v20141007-2033:/shared/centos7/openmpi/4.0.2/lib:/shared/centos7/gcc/10.1.0/lib64:/shared/centos7/gcc/10.1.0/libexec/gcc/x86_64-pc-linux-gnu/10.1.0/:/shared/centos7/gcc/10.1.0/lib/gcc/x86_64-pc-linux-gnu/10.1.0/\n",
      "2023-11-20 17:08:36.148114: W tensorflow/compiler/xla/stream_executor/platform/default/dso_loader.cc:64] Could not load dynamic library 'libnvinfer_plugin.so.7'; dlerror: libnvinfer_plugin.so.7: cannot open shared object file: No such file or directory; LD_LIBRARY_PATH: /shared/centos7/cuda/11.7/lib64:/shared/centos7/oracle_java/jdk1.8.0_181/jre/lib:/shared/centos7/oracle_java/jdk1.8.0_181/lib:/shared/centos7/oracle_java/jdk1.8.0_181/jre/lib/amd64:/shared/centos7/oracle_java/jdk1.8.0_181/jre/lib/amd64/jli:/shared/centos7/oracle_java/jdk1.8.0_181/jre/lib/amd64/server:/shared/centos7/oracle_java/jdk1.8.0_181/lib/amd64:/shared/centos7/oracle_java/jdk1.8.0_181/lib/amd64/jli:/shared/centos7/oracle_java/jdk1.8.0_181/lib/visualvm/profiler/lib/deployed/jdk16/linux-amd64:/shared/centos7/oracle_java/jdk1.8.0_181/lib/visualvm/profiler/lib/deployed/jdk15/linux-amd64:/shared/centos7/oracle_java/jdk1.8.0_181/lib/missioncontrol/plugins/org.eclipse.equinox.launcher.gtk.linux.x86_64_1.1.200.v20141007-2033:/shared/centos7/openmpi/4.0.2/lib:/shared/centos7/gcc/10.1.0/lib64:/shared/centos7/gcc/10.1.0/libexec/gcc/x86_64-pc-linux-gnu/10.1.0/:/shared/centos7/gcc/10.1.0/lib/gcc/x86_64-pc-linux-gnu/10.1.0/\n",
      "2023-11-20 17:08:36.148122: W tensorflow/compiler/tf2tensorrt/utils/py_utils.cc:38] TF-TRT Warning: Cannot dlopen some TensorRT libraries. If you would like to use Nvidia GPU with TensorRT, please make sure the missing libraries mentioned above are installed properly.\n"
     ]
    }
   ],
   "source": [
    "from utils import load_encoder_hparams_and_params\n",
    "encoder, hparams, params = load_encoder_hparams_and_params(\"124M\", \"models\")"
   ]
  },
  {
   "cell_type": "code",
   "execution_count": 2,
   "metadata": {},
   "outputs": [
    {
     "data": {
      "text/plain": [
       "([3673, 477, 10281, 5806, 1451, 274, 13], 'Not all heroes wear capes.')"
      ]
     },
     "execution_count": 2,
     "metadata": {},
     "output_type": "execute_result"
    }
   ],
   "source": [
    "ids = encoder.encode(\"Not all heroes wear capes.\")\n",
    "ids, encoder.decode(ids)"
   ]
  },
  {
   "cell_type": "code",
   "execution_count": 3,
   "metadata": {},
   "outputs": [
    {
     "data": {
      "text/plain": [
       "['Not', 'Ġall', 'Ġheroes', 'Ġwear', 'Ġcap', 'es', '.']"
      ]
     },
     "execution_count": 3,
     "metadata": {},
     "output_type": "execute_result"
    }
   ],
   "source": [
    "[encoder.decoder[i] for i in ids]"
   ]
  },
  {
   "cell_type": "code",
   "execution_count": 4,
   "metadata": {},
   "outputs": [
    {
     "data": {
      "text/plain": [
       "50257"
      ]
     },
     "execution_count": 4,
     "metadata": {},
     "output_type": "execute_result"
    }
   ],
   "source": [
    "len(encoder.decoder)"
   ]
  },
  {
   "cell_type": "code",
   "execution_count": 5,
   "metadata": {},
   "outputs": [
    {
     "data": {
      "text/plain": [
       "{'blocks': [{'attn': {'c_attn': {'b': [2304], 'w': [768, 2304]},\n",
       "    'c_proj': {'b': [768], 'w': [768, 768]}},\n",
       "   'ln_1': {'b': [768], 'g': [768]},\n",
       "   'ln_2': {'b': [768], 'g': [768]},\n",
       "   'mlp': {'c_fc': {'b': [3072], 'w': [768, 3072]},\n",
       "    'c_proj': {'b': [768], 'w': [3072, 768]}}},\n",
       "  {'attn': {'c_attn': {'b': [2304], 'w': [768, 2304]},\n",
       "    'c_proj': {'b': [768], 'w': [768, 768]}},\n",
       "   'ln_1': {'b': [768], 'g': [768]},\n",
       "   'ln_2': {'b': [768], 'g': [768]},\n",
       "   'mlp': {'c_fc': {'b': [3072], 'w': [768, 3072]},\n",
       "    'c_proj': {'b': [768], 'w': [3072, 768]}}},\n",
       "  {'attn': {'c_attn': {'b': [2304], 'w': [768, 2304]},\n",
       "    'c_proj': {'b': [768], 'w': [768, 768]}},\n",
       "   'ln_1': {'b': [768], 'g': [768]},\n",
       "   'ln_2': {'b': [768], 'g': [768]},\n",
       "   'mlp': {'c_fc': {'b': [3072], 'w': [768, 3072]},\n",
       "    'c_proj': {'b': [768], 'w': [3072, 768]}}},\n",
       "  {'attn': {'c_attn': {'b': [2304], 'w': [768, 2304]},\n",
       "    'c_proj': {'b': [768], 'w': [768, 768]}},\n",
       "   'ln_1': {'b': [768], 'g': [768]},\n",
       "   'ln_2': {'b': [768], 'g': [768]},\n",
       "   'mlp': {'c_fc': {'b': [3072], 'w': [768, 3072]},\n",
       "    'c_proj': {'b': [768], 'w': [3072, 768]}}},\n",
       "  {'attn': {'c_attn': {'b': [2304], 'w': [768, 2304]},\n",
       "    'c_proj': {'b': [768], 'w': [768, 768]}},\n",
       "   'ln_1': {'b': [768], 'g': [768]},\n",
       "   'ln_2': {'b': [768], 'g': [768]},\n",
       "   'mlp': {'c_fc': {'b': [3072], 'w': [768, 3072]},\n",
       "    'c_proj': {'b': [768], 'w': [3072, 768]}}},\n",
       "  {'attn': {'c_attn': {'b': [2304], 'w': [768, 2304]},\n",
       "    'c_proj': {'b': [768], 'w': [768, 768]}},\n",
       "   'ln_1': {'b': [768], 'g': [768]},\n",
       "   'ln_2': {'b': [768], 'g': [768]},\n",
       "   'mlp': {'c_fc': {'b': [3072], 'w': [768, 3072]},\n",
       "    'c_proj': {'b': [768], 'w': [3072, 768]}}},\n",
       "  {'attn': {'c_attn': {'b': [2304], 'w': [768, 2304]},\n",
       "    'c_proj': {'b': [768], 'w': [768, 768]}},\n",
       "   'ln_1': {'b': [768], 'g': [768]},\n",
       "   'ln_2': {'b': [768], 'g': [768]},\n",
       "   'mlp': {'c_fc': {'b': [3072], 'w': [768, 3072]},\n",
       "    'c_proj': {'b': [768], 'w': [3072, 768]}}},\n",
       "  {'attn': {'c_attn': {'b': [2304], 'w': [768, 2304]},\n",
       "    'c_proj': {'b': [768], 'w': [768, 768]}},\n",
       "   'ln_1': {'b': [768], 'g': [768]},\n",
       "   'ln_2': {'b': [768], 'g': [768]},\n",
       "   'mlp': {'c_fc': {'b': [3072], 'w': [768, 3072]},\n",
       "    'c_proj': {'b': [768], 'w': [3072, 768]}}},\n",
       "  {'attn': {'c_attn': {'b': [2304], 'w': [768, 2304]},\n",
       "    'c_proj': {'b': [768], 'w': [768, 768]}},\n",
       "   'ln_1': {'b': [768], 'g': [768]},\n",
       "   'ln_2': {'b': [768], 'g': [768]},\n",
       "   'mlp': {'c_fc': {'b': [3072], 'w': [768, 3072]},\n",
       "    'c_proj': {'b': [768], 'w': [3072, 768]}}},\n",
       "  {'attn': {'c_attn': {'b': [2304], 'w': [768, 2304]},\n",
       "    'c_proj': {'b': [768], 'w': [768, 768]}},\n",
       "   'ln_1': {'b': [768], 'g': [768]},\n",
       "   'ln_2': {'b': [768], 'g': [768]},\n",
       "   'mlp': {'c_fc': {'b': [3072], 'w': [768, 3072]},\n",
       "    'c_proj': {'b': [768], 'w': [3072, 768]}}},\n",
       "  {'attn': {'c_attn': {'b': [2304], 'w': [768, 2304]},\n",
       "    'c_proj': {'b': [768], 'w': [768, 768]}},\n",
       "   'ln_1': {'b': [768], 'g': [768]},\n",
       "   'ln_2': {'b': [768], 'g': [768]},\n",
       "   'mlp': {'c_fc': {'b': [3072], 'w': [768, 3072]},\n",
       "    'c_proj': {'b': [768], 'w': [3072, 768]}}},\n",
       "  {'attn': {'c_attn': {'b': [2304], 'w': [768, 2304]},\n",
       "    'c_proj': {'b': [768], 'w': [768, 768]}},\n",
       "   'ln_1': {'b': [768], 'g': [768]},\n",
       "   'ln_2': {'b': [768], 'g': [768]},\n",
       "   'mlp': {'c_fc': {'b': [3072], 'w': [768, 3072]},\n",
       "    'c_proj': {'b': [768], 'w': [3072, 768]}}}],\n",
       " 'ln_f': {'b': [768], 'g': [768]},\n",
       " 'wpe': [1024, 768],\n",
       " 'wte': [50257, 768]}"
      ]
     },
     "execution_count": 5,
     "metadata": {},
     "output_type": "execute_result"
    }
   ],
   "source": [
    "from utils import shape_tree\n",
    "shape_tree(params)"
   ]
  },
  {
   "cell_type": "code",
   "execution_count": 6,
   "metadata": {},
   "outputs": [
    {
     "name": "stdout",
     "output_type": "stream",
     "text": [
      "model/h0/attn/c_attn/b: (2304,)\n",
      "model/h0/attn/c_attn/w: (768, 2304)\n",
      "model/h0/attn/c_proj/b: (768,)\n",
      "model/h0/attn/c_proj/w: (768, 768)\n",
      "model/h0/ln_1/b: (768,)\n",
      "model/h0/ln_1/g: (768,)\n",
      "model/h0/ln_2/b: (768,)\n",
      "model/h0/ln_2/g: (768,)\n",
      "model/h0/mlp/c_fc/b: (3072,)\n",
      "model/h0/mlp/c_fc/w: (768, 3072)\n",
      "model/h0/mlp/c_proj/b: (768,)\n",
      "model/h0/mlp/c_proj/w: (3072, 768)\n",
      "model/h1/attn/c_attn/b: (2304,)\n",
      "model/h1/attn/c_attn/w: (768, 2304)\n",
      "model/h1/attn/c_proj/b: (768,)\n",
      "model/h1/attn/c_proj/w: (768, 768)\n",
      "model/h1/ln_1/b: (768,)\n",
      "model/h1/ln_1/g: (768,)\n",
      "model/h1/ln_2/b: (768,)\n",
      "model/h1/ln_2/g: (768,)\n",
      "model/h1/mlp/c_fc/b: (3072,)\n",
      "model/h1/mlp/c_fc/w: (768, 3072)\n",
      "model/h1/mlp/c_proj/b: (768,)\n",
      "model/h1/mlp/c_proj/w: (3072, 768)\n",
      "model/h10/attn/c_attn/b: (2304,)\n",
      "model/h10/attn/c_attn/w: (768, 2304)\n",
      "model/h10/attn/c_proj/b: (768,)\n",
      "model/h10/attn/c_proj/w: (768, 768)\n",
      "model/h10/ln_1/b: (768,)\n",
      "model/h10/ln_1/g: (768,)\n",
      "model/h10/ln_2/b: (768,)\n",
      "model/h10/ln_2/g: (768,)\n",
      "model/h10/mlp/c_fc/b: (3072,)\n",
      "model/h10/mlp/c_fc/w: (768, 3072)\n",
      "model/h10/mlp/c_proj/b: (768,)\n",
      "model/h10/mlp/c_proj/w: (3072, 768)\n",
      "model/h11/attn/c_attn/b: (2304,)\n",
      "model/h11/attn/c_attn/w: (768, 2304)\n",
      "model/h11/attn/c_proj/b: (768,)\n",
      "model/h11/attn/c_proj/w: (768, 768)\n",
      "model/h11/ln_1/b: (768,)\n",
      "model/h11/ln_1/g: (768,)\n",
      "model/h11/ln_2/b: (768,)\n",
      "model/h11/ln_2/g: (768,)\n",
      "model/h11/mlp/c_fc/b: (3072,)\n",
      "model/h11/mlp/c_fc/w: (768, 3072)\n",
      "model/h11/mlp/c_proj/b: (768,)\n",
      "model/h11/mlp/c_proj/w: (3072, 768)\n",
      "model/h2/attn/c_attn/b: (2304,)\n",
      "model/h2/attn/c_attn/w: (768, 2304)\n",
      "model/h2/attn/c_proj/b: (768,)\n",
      "model/h2/attn/c_proj/w: (768, 768)\n",
      "model/h2/ln_1/b: (768,)\n",
      "model/h2/ln_1/g: (768,)\n",
      "model/h2/ln_2/b: (768,)\n",
      "model/h2/ln_2/g: (768,)\n",
      "model/h2/mlp/c_fc/b: (3072,)\n",
      "model/h2/mlp/c_fc/w: (768, 3072)\n",
      "model/h2/mlp/c_proj/b: (768,)\n",
      "model/h2/mlp/c_proj/w: (3072, 768)\n",
      "model/h3/attn/c_attn/b: (2304,)\n",
      "model/h3/attn/c_attn/w: (768, 2304)\n",
      "model/h3/attn/c_proj/b: (768,)\n",
      "model/h3/attn/c_proj/w: (768, 768)\n",
      "model/h3/ln_1/b: (768,)\n",
      "model/h3/ln_1/g: (768,)\n",
      "model/h3/ln_2/b: (768,)\n",
      "model/h3/ln_2/g: (768,)\n",
      "model/h3/mlp/c_fc/b: (3072,)\n",
      "model/h3/mlp/c_fc/w: (768, 3072)\n",
      "model/h3/mlp/c_proj/b: (768,)\n",
      "model/h3/mlp/c_proj/w: (3072, 768)\n",
      "model/h4/attn/c_attn/b: (2304,)\n",
      "model/h4/attn/c_attn/w: (768, 2304)\n",
      "model/h4/attn/c_proj/b: (768,)\n",
      "model/h4/attn/c_proj/w: (768, 768)\n",
      "model/h4/ln_1/b: (768,)\n",
      "model/h4/ln_1/g: (768,)\n",
      "model/h4/ln_2/b: (768,)\n",
      "model/h4/ln_2/g: (768,)\n",
      "model/h4/mlp/c_fc/b: (3072,)\n",
      "model/h4/mlp/c_fc/w: (768, 3072)\n",
      "model/h4/mlp/c_proj/b: (768,)\n",
      "model/h4/mlp/c_proj/w: (3072, 768)\n",
      "model/h5/attn/c_attn/b: (2304,)\n",
      "model/h5/attn/c_attn/w: (768, 2304)\n",
      "model/h5/attn/c_proj/b: (768,)\n",
      "model/h5/attn/c_proj/w: (768, 768)\n",
      "model/h5/ln_1/b: (768,)\n",
      "model/h5/ln_1/g: (768,)\n",
      "model/h5/ln_2/b: (768,)\n",
      "model/h5/ln_2/g: (768,)\n",
      "model/h5/mlp/c_fc/b: (3072,)\n",
      "model/h5/mlp/c_fc/w: (768, 3072)\n",
      "model/h5/mlp/c_proj/b: (768,)\n",
      "model/h5/mlp/c_proj/w: (3072, 768)\n",
      "model/h6/attn/c_attn/b: (2304,)\n",
      "model/h6/attn/c_attn/w: (768, 2304)\n",
      "model/h6/attn/c_proj/b: (768,)\n",
      "model/h6/attn/c_proj/w: (768, 768)\n",
      "model/h6/ln_1/b: (768,)\n",
      "model/h6/ln_1/g: (768,)\n",
      "model/h6/ln_2/b: (768,)\n",
      "model/h6/ln_2/g: (768,)\n",
      "model/h6/mlp/c_fc/b: (3072,)\n",
      "model/h6/mlp/c_fc/w: (768, 3072)\n",
      "model/h6/mlp/c_proj/b: (768,)\n",
      "model/h6/mlp/c_proj/w: (3072, 768)\n",
      "model/h7/attn/c_attn/b: (2304,)\n",
      "model/h7/attn/c_attn/w: (768, 2304)\n",
      "model/h7/attn/c_proj/b: (768,)\n",
      "model/h7/attn/c_proj/w: (768, 768)\n",
      "model/h7/ln_1/b: (768,)\n",
      "model/h7/ln_1/g: (768,)\n",
      "model/h7/ln_2/b: (768,)\n",
      "model/h7/ln_2/g: (768,)\n",
      "model/h7/mlp/c_fc/b: (3072,)\n",
      "model/h7/mlp/c_fc/w: (768, 3072)\n",
      "model/h7/mlp/c_proj/b: (768,)\n",
      "model/h7/mlp/c_proj/w: (3072, 768)\n",
      "model/h8/attn/c_attn/b: (2304,)\n",
      "model/h8/attn/c_attn/w: (768, 2304)\n",
      "model/h8/attn/c_proj/b: (768,)\n",
      "model/h8/attn/c_proj/w: (768, 768)\n",
      "model/h8/ln_1/b: (768,)\n",
      "model/h8/ln_1/g: (768,)\n",
      "model/h8/ln_2/b: (768,)\n",
      "model/h8/ln_2/g: (768,)\n",
      "model/h8/mlp/c_fc/b: (3072,)\n",
      "model/h8/mlp/c_fc/w: (768, 3072)\n",
      "model/h8/mlp/c_proj/b: (768,)\n",
      "model/h8/mlp/c_proj/w: (3072, 768)\n",
      "model/h9/attn/c_attn/b: (2304,)\n",
      "model/h9/attn/c_attn/w: (768, 2304)\n",
      "model/h9/attn/c_proj/b: (768,)\n",
      "model/h9/attn/c_proj/w: (768, 768)\n",
      "model/h9/ln_1/b: (768,)\n",
      "model/h9/ln_1/g: (768,)\n",
      "model/h9/ln_2/b: (768,)\n",
      "model/h9/ln_2/g: (768,)\n",
      "model/h9/mlp/c_fc/b: (3072,)\n",
      "model/h9/mlp/c_fc/w: (768, 3072)\n",
      "model/h9/mlp/c_proj/b: (768,)\n",
      "model/h9/mlp/c_proj/w: (3072, 768)\n",
      "model/ln_f/b: (768,)\n",
      "model/ln_f/g: (768,)\n",
      "model/wpe: (1024, 768)\n",
      "model/wte: (50257, 768)\n"
     ]
    }
   ],
   "source": [
    "import tensorflow as tf\n",
    "tf_ckpt_path = tf.train.latest_checkpoint(\"models/124M\")\n",
    "for name, _ in tf.train.list_variables(tf_ckpt_path):\n",
    "    arr = tf.train.load_variable(tf_ckpt_path, name).squeeze()\n",
    "    print(f\"{name}: {arr.shape}\")\n"
   ]
  },
  {
   "cell_type": "code",
   "execution_count": 7,
   "metadata": {},
   "outputs": [
    {
     "data": {
      "text/plain": [
       "array([[ 0.84119199,  1.95459769],\n",
       "       [-0.04540231,  0.34571401]])"
      ]
     },
     "execution_count": 7,
     "metadata": {},
     "output_type": "execute_result"
    }
   ],
   "source": [
    "from gpt2 import gelu\n",
    "import numpy as np\n",
    "gelu(np.array([[1, 2], [-2, 0.5]]))"
   ]
  },
  {
   "cell_type": "code",
   "execution_count": 10,
   "metadata": {},
   "outputs": [
    {
     "data": {
      "text/plain": [
       "(array([[  2, 100, 500],\n",
       "        [ -5,   0,  -1]]),\n",
       " array([[5.26438948e-217, 1.91516960e-174, 1.00000000e+000],\n",
       "        [6.73794700e-003, 1.00000000e+000, 3.67879441e-001]]),\n",
       " array([[5.26438948e-217, 1.91516960e-174, 1.00000000e+000],\n",
       "        [4.90168905e-003, 7.27475157e-001, 2.67623154e-001]]))"
      ]
     },
     "execution_count": 10,
     "metadata": {},
     "output_type": "execute_result"
    }
   ],
   "source": [
    "x = np.array([[2, 100, 500], [-5, 0, -1]])\n",
    "exp_x = np.exp(x - np.max(x, axis=-1, keepdims=True))\n",
    "x_logit = exp_x / np.sum(exp_x, axis=-1, keepdims=True)\n",
    "x, exp_x, x_logit"
   ]
  },
  {
   "cell_type": "code",
   "execution_count": 15,
   "metadata": {},
   "outputs": [
    {
     "data": {
      "text/plain": [
       "((2, 3),\n",
       " array([[500],\n",
       "        [  0]]))"
      ]
     },
     "execution_count": 15,
     "metadata": {},
     "output_type": "execute_result"
    }
   ],
   "source": [
    "x.shape, np.max(x, axis=-1, keepdims=True)"
   ]
  },
  {
   "cell_type": "code",
   "execution_count": null,
   "metadata": {},
   "outputs": [],
   "source": []
  }
 ],
 "metadata": {
  "kernelspec": {
   "display_name": "llm",
   "language": "python",
   "name": "python3"
  },
  "language_info": {
   "codemirror_mode": {
    "name": "ipython",
    "version": 3
   },
   "file_extension": ".py",
   "mimetype": "text/x-python",
   "name": "python",
   "nbconvert_exporter": "python",
   "pygments_lexer": "ipython3",
   "version": "3.9.17"
  }
 },
 "nbformat": 4,
 "nbformat_minor": 2
}
